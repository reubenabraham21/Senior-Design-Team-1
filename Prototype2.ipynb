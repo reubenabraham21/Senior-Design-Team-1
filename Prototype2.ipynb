{
 "cells": [
  {
   "cell_type": "code",
   "execution_count": null,
   "id": "6b48c9f8-e54b-45e6-846c-61f60d0dc222",
   "metadata": {},
   "outputs": [],
   "source": [
    "#CAPTURE CARD\n",
    "import cv2\n",
    "import tkinter as tk\n",
    "from PIL import Image, ImageTk\n",
    "import numpy as np\n",
    "import ctypes\n",
    "\n",
    "ctypes.windll.shcore.SetProcessDpiAwareness(1)  # Enable DPI scaling fix\n",
    "\n",
    "# Initialize Tkinter\n",
    "root = tk.Tk()\n",
    "root.title(\"Capture Card Feed with Transformations\")\n",
    "root.overrideredirect(True) #removes GUI elements/title bar\n",
    "root.geometry(\"1920x1080\") #size fits the projector screen\n",
    "root.geometry('+2256+0') #moves window to start of projector screen\n",
    "\n",
    "# Open the Capture Card\n",
    "cap = cv2.VideoCapture(1)  # Change index if necessary\n",
    "cap.set(cv2.CAP_PROP_FOURCC, cv2.VideoWriter_fourcc(*'MJPG'))\n",
    "cap.set(cv2.CAP_PROP_FRAME_WIDTH, 812)\n",
    "cap.set(cv2.CAP_PROP_FRAME_HEIGHT, 650) #812x650 is the size of fluoro computer images\n",
    "cap.set(cv2.CAP_PROP_FPS, 30)\n",
    "\n",
    "# Create a label to display video\n",
    "label = tk.Label(root, bg=\"black\") #turned background of window black\n",
    "\n",
    "def update_frame():\n",
    "    ret, frame = cap.read()\n",
    "    if ret:\n",
    "        # Crop the frame (remove leftmost 178 pixels and bottommost 15 pixels. Gets rid of the patient info and just shows the image)\n",
    "        frame = frame[:frame.shape[0] - 15, 178:]\n",
    "        label.pack(expand=True, fill='both') #supposed to center the image\n",
    "        frame = cv2.cvtColor(frame, cv2.COLOR_BGR2RGB)\n",
    "        image_pil = Image.fromarray(frame2)\n",
    "        image_tk = ImageTk.PhotoImage(image_pil)\n",
    "        label.config(image=image_tk)\n",
    "        label.image = image_tk\n",
    "    root.after(10, update_frame)\n",
    "# Bind the \"Esc\" key to exit the program\n",
    "root.bind(\"<Escape>\", lambda event: root.destroy())  # Press ESC to close\n",
    "# Start video update\n",
    "update_frame()\n",
    "root.mainloop()\n",
    "cap.release()\n"
   ]
  }
 ],
 "metadata": {
  "kernelspec": {
   "display_name": "Python 3 (ipykernel)",
   "language": "python",
   "name": "python3"
  },
  "language_info": {
   "codemirror_mode": {
    "name": "ipython",
    "version": 3
   },
   "file_extension": ".py",
   "mimetype": "text/x-python",
   "name": "python",
   "nbconvert_exporter": "python",
   "pygments_lexer": "ipython3",
   "version": "3.12.7"
  }
 },
 "nbformat": 4,
 "nbformat_minor": 5
}
