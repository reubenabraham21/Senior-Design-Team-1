{
 "cells": [
  {
   "cell_type": "code",
   "execution_count": null,
   "id": "e9ea9bdd-3657-4333-add3-6242336636e7",
   "metadata": {},
   "outputs": [],
   "source": [
    "#Creates Window but not fullscreen or proper location\n",
    "import cv2\n",
    "import numpy as np\n",
    "import matplotlib.pyplot as plt\n",
    "from PIL import Image\n",
    "import os\n",
    "import time\n",
    "\n",
    "# Open the capture card (replace 1 with the correct index)\n",
    "cap = cv2.VideoCapture(0, cv2.CAP_DSHOW)\n",
    "\n",
    "# Ensure the capture card uses MJPEG format\n",
    "cap.set(cv2.CAP_PROP_FOURCC, cv2.VideoWriter_fourcc(*'MJPG'))\n",
    "cap.set(cv2.CAP_PROP_FRAME_WIDTH, 1280)\n",
    "cap.set(cv2.CAP_PROP_FRAME_HEIGHT, 1024)\n",
    "cap.set(cv2.CAP_PROP_FPS, 30)\n",
    "\n",
    "if not cap.isOpened():\n",
    "    print(\"❌ Error: Could not open StarTech capture device.\")\n",
    "    exit()\n",
    "    \n",
    "cv2.namedWindow(\"StarTech MJPEG Capture\", cv2.WINDOW_NORMAL)\n",
    "\n",
    "\n",
    "while True:\n",
    "    ret, frame = cap.read()\n",
    "    if not ret:\n",
    "        print(\"❌ Failed to capture frame\")\n",
    "        break\n",
    "    \n",
    "\n",
    "    # Show the video feed\n",
    "    cv2.imshow(\"StarTech MJPEG Capture\", frame)\n",
    "\n",
    "    if cv2.waitKey(1) & 0xFF == ord('q'):  # Press 'q' to exit\n",
    "        break\n",
    "\n",
    "cap.release()\n",
    "cv2.destroyAllWindows()\n"
   ]
  },
  {
   "cell_type": "code",
   "execution_count": null,
   "id": "e8a171b5-3817-47ca-bfab-8abacfe3ea88",
   "metadata": {},
   "outputs": [],
   "source": []
  },
  {
   "cell_type": "code",
   "execution_count": null,
   "id": "13160bb5-c484-4628-b828-6686eef7fc6c",
   "metadata": {},
   "outputs": [],
   "source": []
  }
 ],
 "metadata": {
  "kernelspec": {
   "display_name": "Python 3 (ipykernel)",
   "language": "python",
   "name": "python3"
  },
  "language_info": {
   "codemirror_mode": {
    "name": "ipython",
    "version": 3
   },
   "file_extension": ".py",
   "mimetype": "text/x-python",
   "name": "python",
   "nbconvert_exporter": "python",
   "pygments_lexer": "ipython3",
   "version": "3.12.7"
  }
 },
 "nbformat": 4,
 "nbformat_minor": 5
}
